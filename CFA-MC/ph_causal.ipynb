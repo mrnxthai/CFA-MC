{
  "nbformat": 4,
  "nbformat_minor": 0,
  "metadata": {
    "colab": {
      "provenance": [],
      "include_colab_link": true
    },
    "kernelspec": {
      "name": "python3",
      "display_name": "Python 3"
    },
    "language_info": {
      "name": "python"
    }
  },
  "cells": [
    {
      "cell_type": "markdown",
      "metadata": {
        "id": "view-in-github",
        "colab_type": "text"
      },
      "source": [
        "<a href=\"https://colab.research.google.com/github/AhmedAloui1997/CounterfactualAugmentation/blob/main/ph_causal.ipynb\" target=\"_parent\"><img src=\"https://colab.research.google.com/assets/colab-badge.svg\" alt=\"Open In Colab\"/></a>"
      ]
    },
    {
      "cell_type": "code",
      "execution_count": null,
      "metadata": {
        "id": "aUdHH9m8O2w6"
      },
      "outputs": [],
      "source": [
        "import torch\n",
        "import torch.nn as nn\n",
        "import numpy as np\n",
        "import matplotlib.pyplot as plt\n",
        "import torch.optim as optim\n",
        "import pandas as pd\n",
        "from tqdm.notebook import trange\n",
        "from torch.distributions.multivariate_normal import MultivariateNormal as MVN\n",
        "from torch.utils.data import Dataset, DataLoader\n",
        "from tqdm.notebook import trange\n",
        "torch.manual_seed(0)\n",
        "import tqdm"
      ]
    },
    {
      "cell_type": "code",
      "source": [
        "from google.colab import drive\n",
        "drive.mount('/content/drive')"
      ],
      "metadata": {
        "colab": {
          "base_uri": "https://localhost:8080/"
        },
        "id": "NmRp60LXO7ur",
        "outputId": "fd541b69-d5e1-403f-f21a-0ddc97b79b3c"
      },
      "execution_count": null,
      "outputs": [
        {
          "output_type": "stream",
          "name": "stdout",
          "text": [
            "Drive already mounted at /content/drive; to attempt to forcibly remount, call drive.mount(\"/content/drive\", force_remount=True).\n"
          ]
        }
      ]
    },
    {
      "cell_type": "markdown",
      "source": [
        "### Importing the IHDP dataset"
      ],
      "metadata": {
        "id": "5U1AylE2v-tE"
      }
    },
    {
      "cell_type": "code",
      "source": [
        "names=['treatment', 'y_factual', 'y_cfactual', 'mu0', 'mu1', 'x1','x2','x3','x4','x5','x6','x7','x8','x9','x10','x11','x12','x13','x14','x15','x16','x17','x18','x19','x20','x21','x22','x23','x24','x25']\n",
        "#the simulation on the 6th simulation\n",
        "ihdp = pd.read_csv('/content/drive/MyDrive/OrganizedSpace/PhD/Research/Causality/Datasets/IHDP1/csv/ihdp_npci_1.csv',header=0,names=names)\n",
        "ihdp.head()"
      ],
      "metadata": {
        "colab": {
          "base_uri": "https://localhost:8080/",
          "height": 236
        },
        "id": "9jFLKCNnO8EJ",
        "outputId": "3236fafd-c83e-4683-b562-68896ceb55c3"
      },
      "execution_count": null,
      "outputs": [
        {
          "output_type": "execute_result",
          "data": {
            "text/plain": [
              "   treatment  y_factual  y_cfactual       mu0       mu1        x1        x2  \\\n",
              "0          0   6.875856    7.856495  6.636059  7.562718 -1.736945 -1.802002   \n",
              "1          0   2.996273    6.633952  1.570536  6.121617 -0.807451 -0.202946   \n",
              "2          0   1.366206    5.697239  1.244738  5.889125  0.390083  0.596582   \n",
              "3          0   1.963538    6.202582  1.685048  6.191994 -1.045229 -0.602710   \n",
              "4          0   4.762090    8.264795  4.707898  7.219442  0.467901 -0.202946   \n",
              "\n",
              "         x3        x4        x5  ...  x16  x17  x18  x19  x20  x21  x22  x23  \\\n",
              "0  0.383828  2.244320 -0.629189  ...    1    1    1    1    0    0    0    0   \n",
              "1 -0.360898 -0.879606  0.808706  ...    1    0    1    1    0    0    0    0   \n",
              "2 -1.850350 -0.879606 -0.004017  ...    1    0    1    1    0    0    0    0   \n",
              "3  0.011465  0.161703  0.683672  ...    1    1    1    1    0    0    0    0   \n",
              "4 -0.733261  0.161703  0.058500  ...    1    1    1    1    0    0    0    0   \n",
              "\n",
              "   x24  x25  \n",
              "0    0    0  \n",
              "1    0    0  \n",
              "2    0    0  \n",
              "3    0    0  \n",
              "4    0    0  \n",
              "\n",
              "[5 rows x 30 columns]"
            ],
            "text/html": [
              "\n",
              "  <div id=\"df-9f9e7de0-fc19-43e8-bc9a-637395db818c\" class=\"colab-df-container\">\n",
              "    <div>\n",
              "<style scoped>\n",
              "    .dataframe tbody tr th:only-of-type {\n",
              "        vertical-align: middle;\n",
              "    }\n",
              "\n",
              "    .dataframe tbody tr th {\n",
              "        vertical-align: top;\n",
              "    }\n",
              "\n",
              "    .dataframe thead th {\n",
              "        text-align: right;\n",
              "    }\n",
              "</style>\n",
              "<table border=\"1\" class=\"dataframe\">\n",
              "  <thead>\n",
              "    <tr style=\"text-align: right;\">\n",
              "      <th></th>\n",
              "      <th>treatment</th>\n",
              "      <th>y_factual</th>\n",
              "      <th>y_cfactual</th>\n",
              "      <th>mu0</th>\n",
              "      <th>mu1</th>\n",
              "      <th>x1</th>\n",
              "      <th>x2</th>\n",
              "      <th>x3</th>\n",
              "      <th>x4</th>\n",
              "      <th>x5</th>\n",
              "      <th>...</th>\n",
              "      <th>x16</th>\n",
              "      <th>x17</th>\n",
              "      <th>x18</th>\n",
              "      <th>x19</th>\n",
              "      <th>x20</th>\n",
              "      <th>x21</th>\n",
              "      <th>x22</th>\n",
              "      <th>x23</th>\n",
              "      <th>x24</th>\n",
              "      <th>x25</th>\n",
              "    </tr>\n",
              "  </thead>\n",
              "  <tbody>\n",
              "    <tr>\n",
              "      <th>0</th>\n",
              "      <td>0</td>\n",
              "      <td>6.875856</td>\n",
              "      <td>7.856495</td>\n",
              "      <td>6.636059</td>\n",
              "      <td>7.562718</td>\n",
              "      <td>-1.736945</td>\n",
              "      <td>-1.802002</td>\n",
              "      <td>0.383828</td>\n",
              "      <td>2.244320</td>\n",
              "      <td>-0.629189</td>\n",
              "      <td>...</td>\n",
              "      <td>1</td>\n",
              "      <td>1</td>\n",
              "      <td>1</td>\n",
              "      <td>1</td>\n",
              "      <td>0</td>\n",
              "      <td>0</td>\n",
              "      <td>0</td>\n",
              "      <td>0</td>\n",
              "      <td>0</td>\n",
              "      <td>0</td>\n",
              "    </tr>\n",
              "    <tr>\n",
              "      <th>1</th>\n",
              "      <td>0</td>\n",
              "      <td>2.996273</td>\n",
              "      <td>6.633952</td>\n",
              "      <td>1.570536</td>\n",
              "      <td>6.121617</td>\n",
              "      <td>-0.807451</td>\n",
              "      <td>-0.202946</td>\n",
              "      <td>-0.360898</td>\n",
              "      <td>-0.879606</td>\n",
              "      <td>0.808706</td>\n",
              "      <td>...</td>\n",
              "      <td>1</td>\n",
              "      <td>0</td>\n",
              "      <td>1</td>\n",
              "      <td>1</td>\n",
              "      <td>0</td>\n",
              "      <td>0</td>\n",
              "      <td>0</td>\n",
              "      <td>0</td>\n",
              "      <td>0</td>\n",
              "      <td>0</td>\n",
              "    </tr>\n",
              "    <tr>\n",
              "      <th>2</th>\n",
              "      <td>0</td>\n",
              "      <td>1.366206</td>\n",
              "      <td>5.697239</td>\n",
              "      <td>1.244738</td>\n",
              "      <td>5.889125</td>\n",
              "      <td>0.390083</td>\n",
              "      <td>0.596582</td>\n",
              "      <td>-1.850350</td>\n",
              "      <td>-0.879606</td>\n",
              "      <td>-0.004017</td>\n",
              "      <td>...</td>\n",
              "      <td>1</td>\n",
              "      <td>0</td>\n",
              "      <td>1</td>\n",
              "      <td>1</td>\n",
              "      <td>0</td>\n",
              "      <td>0</td>\n",
              "      <td>0</td>\n",
              "      <td>0</td>\n",
              "      <td>0</td>\n",
              "      <td>0</td>\n",
              "    </tr>\n",
              "    <tr>\n",
              "      <th>3</th>\n",
              "      <td>0</td>\n",
              "      <td>1.963538</td>\n",
              "      <td>6.202582</td>\n",
              "      <td>1.685048</td>\n",
              "      <td>6.191994</td>\n",
              "      <td>-1.045229</td>\n",
              "      <td>-0.602710</td>\n",
              "      <td>0.011465</td>\n",
              "      <td>0.161703</td>\n",
              "      <td>0.683672</td>\n",
              "      <td>...</td>\n",
              "      <td>1</td>\n",
              "      <td>1</td>\n",
              "      <td>1</td>\n",
              "      <td>1</td>\n",
              "      <td>0</td>\n",
              "      <td>0</td>\n",
              "      <td>0</td>\n",
              "      <td>0</td>\n",
              "      <td>0</td>\n",
              "      <td>0</td>\n",
              "    </tr>\n",
              "    <tr>\n",
              "      <th>4</th>\n",
              "      <td>0</td>\n",
              "      <td>4.762090</td>\n",
              "      <td>8.264795</td>\n",
              "      <td>4.707898</td>\n",
              "      <td>7.219442</td>\n",
              "      <td>0.467901</td>\n",
              "      <td>-0.202946</td>\n",
              "      <td>-0.733261</td>\n",
              "      <td>0.161703</td>\n",
              "      <td>0.058500</td>\n",
              "      <td>...</td>\n",
              "      <td>1</td>\n",
              "      <td>1</td>\n",
              "      <td>1</td>\n",
              "      <td>1</td>\n",
              "      <td>0</td>\n",
              "      <td>0</td>\n",
              "      <td>0</td>\n",
              "      <td>0</td>\n",
              "      <td>0</td>\n",
              "      <td>0</td>\n",
              "    </tr>\n",
              "  </tbody>\n",
              "</table>\n",
              "<p>5 rows × 30 columns</p>\n",
              "</div>\n",
              "    <div class=\"colab-df-buttons\">\n",
              "\n",
              "  <div class=\"colab-df-container\">\n",
              "    <button class=\"colab-df-convert\" onclick=\"convertToInteractive('df-9f9e7de0-fc19-43e8-bc9a-637395db818c')\"\n",
              "            title=\"Convert this dataframe to an interactive table.\"\n",
              "            style=\"display:none;\">\n",
              "\n",
              "  <svg xmlns=\"http://www.w3.org/2000/svg\" height=\"24px\" viewBox=\"0 -960 960 960\">\n",
              "    <path d=\"M120-120v-720h720v720H120Zm60-500h600v-160H180v160Zm220 220h160v-160H400v160Zm0 220h160v-160H400v160ZM180-400h160v-160H180v160Zm440 0h160v-160H620v160ZM180-180h160v-160H180v160Zm440 0h160v-160H620v160Z\"/>\n",
              "  </svg>\n",
              "    </button>\n",
              "\n",
              "  <style>\n",
              "    .colab-df-container {\n",
              "      display:flex;\n",
              "      gap: 12px;\n",
              "    }\n",
              "\n",
              "    .colab-df-convert {\n",
              "      background-color: #E8F0FE;\n",
              "      border: none;\n",
              "      border-radius: 50%;\n",
              "      cursor: pointer;\n",
              "      display: none;\n",
              "      fill: #1967D2;\n",
              "      height: 32px;\n",
              "      padding: 0 0 0 0;\n",
              "      width: 32px;\n",
              "    }\n",
              "\n",
              "    .colab-df-convert:hover {\n",
              "      background-color: #E2EBFA;\n",
              "      box-shadow: 0px 1px 2px rgba(60, 64, 67, 0.3), 0px 1px 3px 1px rgba(60, 64, 67, 0.15);\n",
              "      fill: #174EA6;\n",
              "    }\n",
              "\n",
              "    .colab-df-buttons div {\n",
              "      margin-bottom: 4px;\n",
              "    }\n",
              "\n",
              "    [theme=dark] .colab-df-convert {\n",
              "      background-color: #3B4455;\n",
              "      fill: #D2E3FC;\n",
              "    }\n",
              "\n",
              "    [theme=dark] .colab-df-convert:hover {\n",
              "      background-color: #434B5C;\n",
              "      box-shadow: 0px 1px 3px 1px rgba(0, 0, 0, 0.15);\n",
              "      filter: drop-shadow(0px 1px 2px rgba(0, 0, 0, 0.3));\n",
              "      fill: #FFFFFF;\n",
              "    }\n",
              "  </style>\n",
              "\n",
              "    <script>\n",
              "      const buttonEl =\n",
              "        document.querySelector('#df-9f9e7de0-fc19-43e8-bc9a-637395db818c button.colab-df-convert');\n",
              "      buttonEl.style.display =\n",
              "        google.colab.kernel.accessAllowed ? 'block' : 'none';\n",
              "\n",
              "      async function convertToInteractive(key) {\n",
              "        const element = document.querySelector('#df-9f9e7de0-fc19-43e8-bc9a-637395db818c');\n",
              "        const dataTable =\n",
              "          await google.colab.kernel.invokeFunction('convertToInteractive',\n",
              "                                                    [key], {});\n",
              "        if (!dataTable) return;\n",
              "\n",
              "        const docLinkHtml = 'Like what you see? Visit the ' +\n",
              "          '<a target=\"_blank\" href=https://colab.research.google.com/notebooks/data_table.ipynb>data table notebook</a>'\n",
              "          + ' to learn more about interactive tables.';\n",
              "        element.innerHTML = '';\n",
              "        dataTable['output_type'] = 'display_data';\n",
              "        await google.colab.output.renderOutput(dataTable, element);\n",
              "        const docLink = document.createElement('div');\n",
              "        docLink.innerHTML = docLinkHtml;\n",
              "        element.appendChild(docLink);\n",
              "      }\n",
              "    </script>\n",
              "  </div>\n",
              "\n",
              "\n",
              "<div id=\"df-874bbfe2-d772-4bc4-9832-7dd4c4ee92b7\">\n",
              "  <button class=\"colab-df-quickchart\" onclick=\"quickchart('df-874bbfe2-d772-4bc4-9832-7dd4c4ee92b7')\"\n",
              "            title=\"Suggest charts.\"\n",
              "            style=\"display:none;\">\n",
              "\n",
              "<svg xmlns=\"http://www.w3.org/2000/svg\" height=\"24px\"viewBox=\"0 0 24 24\"\n",
              "     width=\"24px\">\n",
              "    <g>\n",
              "        <path d=\"M19 3H5c-1.1 0-2 .9-2 2v14c0 1.1.9 2 2 2h14c1.1 0 2-.9 2-2V5c0-1.1-.9-2-2-2zM9 17H7v-7h2v7zm4 0h-2V7h2v10zm4 0h-2v-4h2v4z\"/>\n",
              "    </g>\n",
              "</svg>\n",
              "  </button>\n",
              "\n",
              "<style>\n",
              "  .colab-df-quickchart {\n",
              "      --bg-color: #E8F0FE;\n",
              "      --fill-color: #1967D2;\n",
              "      --hover-bg-color: #E2EBFA;\n",
              "      --hover-fill-color: #174EA6;\n",
              "      --disabled-fill-color: #AAA;\n",
              "      --disabled-bg-color: #DDD;\n",
              "  }\n",
              "\n",
              "  [theme=dark] .colab-df-quickchart {\n",
              "      --bg-color: #3B4455;\n",
              "      --fill-color: #D2E3FC;\n",
              "      --hover-bg-color: #434B5C;\n",
              "      --hover-fill-color: #FFFFFF;\n",
              "      --disabled-bg-color: #3B4455;\n",
              "      --disabled-fill-color: #666;\n",
              "  }\n",
              "\n",
              "  .colab-df-quickchart {\n",
              "    background-color: var(--bg-color);\n",
              "    border: none;\n",
              "    border-radius: 50%;\n",
              "    cursor: pointer;\n",
              "    display: none;\n",
              "    fill: var(--fill-color);\n",
              "    height: 32px;\n",
              "    padding: 0;\n",
              "    width: 32px;\n",
              "  }\n",
              "\n",
              "  .colab-df-quickchart:hover {\n",
              "    background-color: var(--hover-bg-color);\n",
              "    box-shadow: 0 1px 2px rgba(60, 64, 67, 0.3), 0 1px 3px 1px rgba(60, 64, 67, 0.15);\n",
              "    fill: var(--button-hover-fill-color);\n",
              "  }\n",
              "\n",
              "  .colab-df-quickchart-complete:disabled,\n",
              "  .colab-df-quickchart-complete:disabled:hover {\n",
              "    background-color: var(--disabled-bg-color);\n",
              "    fill: var(--disabled-fill-color);\n",
              "    box-shadow: none;\n",
              "  }\n",
              "\n",
              "  .colab-df-spinner {\n",
              "    border: 2px solid var(--fill-color);\n",
              "    border-color: transparent;\n",
              "    border-bottom-color: var(--fill-color);\n",
              "    animation:\n",
              "      spin 1s steps(1) infinite;\n",
              "  }\n",
              "\n",
              "  @keyframes spin {\n",
              "    0% {\n",
              "      border-color: transparent;\n",
              "      border-bottom-color: var(--fill-color);\n",
              "      border-left-color: var(--fill-color);\n",
              "    }\n",
              "    20% {\n",
              "      border-color: transparent;\n",
              "      border-left-color: var(--fill-color);\n",
              "      border-top-color: var(--fill-color);\n",
              "    }\n",
              "    30% {\n",
              "      border-color: transparent;\n",
              "      border-left-color: var(--fill-color);\n",
              "      border-top-color: var(--fill-color);\n",
              "      border-right-color: var(--fill-color);\n",
              "    }\n",
              "    40% {\n",
              "      border-color: transparent;\n",
              "      border-right-color: var(--fill-color);\n",
              "      border-top-color: var(--fill-color);\n",
              "    }\n",
              "    60% {\n",
              "      border-color: transparent;\n",
              "      border-right-color: var(--fill-color);\n",
              "    }\n",
              "    80% {\n",
              "      border-color: transparent;\n",
              "      border-right-color: var(--fill-color);\n",
              "      border-bottom-color: var(--fill-color);\n",
              "    }\n",
              "    90% {\n",
              "      border-color: transparent;\n",
              "      border-bottom-color: var(--fill-color);\n",
              "    }\n",
              "  }\n",
              "</style>\n",
              "\n",
              "  <script>\n",
              "    async function quickchart(key) {\n",
              "      const quickchartButtonEl =\n",
              "        document.querySelector('#' + key + ' button');\n",
              "      quickchartButtonEl.disabled = true;  // To prevent multiple clicks.\n",
              "      quickchartButtonEl.classList.add('colab-df-spinner');\n",
              "      try {\n",
              "        const charts = await google.colab.kernel.invokeFunction(\n",
              "            'suggestCharts', [key], {});\n",
              "      } catch (error) {\n",
              "        console.error('Error during call to suggestCharts:', error);\n",
              "      }\n",
              "      quickchartButtonEl.classList.remove('colab-df-spinner');\n",
              "      quickchartButtonEl.classList.add('colab-df-quickchart-complete');\n",
              "    }\n",
              "    (() => {\n",
              "      let quickchartButtonEl =\n",
              "        document.querySelector('#df-874bbfe2-d772-4bc4-9832-7dd4c4ee92b7 button');\n",
              "      quickchartButtonEl.style.display =\n",
              "        google.colab.kernel.accessAllowed ? 'block' : 'none';\n",
              "    })();\n",
              "  </script>\n",
              "</div>\n",
              "\n",
              "    </div>\n",
              "  </div>\n"
            ]
          },
          "metadata": {},
          "execution_count": 44
        }
      ]
    },
    {
      "cell_type": "code",
      "source": [
        "# IHDP\n",
        "features_ihdp = ['x1','x2','x3','x4','x5','x6','x7','x8','x9','x10','x11','x12','x13','x14','x15','x16','x17','x18','x19','x20','x21','x22','x23','x24','x25']\n",
        "ihdp_X = torch.tensor(ihdp[features_ihdp].values,dtype=torch.float32)\n",
        "ihdp_t = torch.tensor(ihdp['treatment'].values,dtype=torch.float32)\n",
        "ihdp_y = torch.tensor(ihdp['y_factual'].values,dtype=torch.float32)\n",
        "ihdp_ycf = torch.tensor(ihdp['y_cfactual'].values,dtype=torch.float32)\n",
        "ihdp_mu0 = torch.tensor(ihdp['mu0'].values,dtype=torch.float32)\n",
        "ihdp_mu1 = torch.tensor(ihdp['mu1'].values,dtype=torch.float32)\n",
        "\n",
        "ihdp_y1 = torch.zeros_like(ihdp_y)\n",
        "ihdp_y1[ihdp_t==1] = ihdp_y[ihdp_t==1]\n",
        "\n",
        "ihdp_y1[ihdp_t==0] = ihdp_ycf[ihdp_t==0]\n",
        "\n",
        "ihdp_y0 = torch.zeros_like(ihdp_y)\n",
        "ihdp_y0[ihdp_t==1] = ihdp_ycf[ihdp_t==1]\n",
        "ihdp_y0[ihdp_t==0] = ihdp_y[ihdp_t==0]"
      ],
      "metadata": {
        "id": "WJI1fEYoO96b"
      },
      "execution_count": null,
      "outputs": []
    },
    {
      "cell_type": "code",
      "source": [
        "import numpy as np\n",
        "import pandas as pd\n",
        "import torch\n",
        "\n",
        "# Assuming you have the ihdp DataFrame\n",
        "features_ihdp = ['x1','x2','x3','x4','x5','x6','x7','x8','x9','x10','x11','x12','x13','x14','x15','x16','x17','x18','x19','x20','x21','x22','x23','x24','x25']\n",
        "ihdp_X = torch.tensor(ihdp[features_ihdp].values,dtype=torch.float32)\n",
        "ihdp_t = torch.tensor(ihdp['treatment'].values,dtype=torch.float32)\n",
        "ihdp_y = torch.tensor(ihdp['y_factual'].values,dtype=torch.float32)"
      ],
      "metadata": {
        "id": "uJFJu7_SP7q6"
      },
      "execution_count": null,
      "outputs": []
    },
    {
      "cell_type": "markdown",
      "source": [
        "### The TARNet architecture"
      ],
      "metadata": {
        "id": "IHTc4RFGwEeU"
      }
    },
    {
      "cell_type": "code",
      "source": [
        "class CFR(nn.Module):\n",
        "  def __init__(self, input_dim, output_dim, rep_dim=25,hyp_dim=15):\n",
        "    '''\n",
        "    input_dim: dimension of the input features, treatment is not considered to be a feature\n",
        "    output_dim: dimension of the output data, each potential outcome\n",
        "    rep_dim: dimension of the representation layers, assumed to be the same\n",
        "    hyp_dim: dimension of the hypothese layers for each potential outcome\n",
        "    '''\n",
        "    super().__init__()\n",
        "\n",
        "    #representation layer\n",
        "    encoder = [nn.Linear(input_dim,rep_dim),nn.ELU(),nn.Linear(rep_dim,rep_dim),nn.ELU(),nn.Linear(rep_dim,rep_dim),nn.ELU()]\n",
        "    self.encoder = nn.Sequential(*encoder)\n",
        "\n",
        "    #Potential outcome y0\n",
        "    func0 = [nn.Linear(rep_dim,hyp_dim),nn.ELU(),nn.Linear(hyp_dim, hyp_dim),nn.ELU(),nn.Linear(hyp_dim, output_dim)]\n",
        "    self.func0 = nn.Sequential(*func0)\n",
        "    #potential outcome y1\n",
        "    func1 = [nn.Linear(rep_dim,hyp_dim),nn.ELU(),nn.Linear(hyp_dim, hyp_dim),nn.ELU(),nn.Linear(hyp_dim, output_dim)]\n",
        "    self.func1 = nn.Sequential(*func1)\n",
        "    #add batch normalization\n",
        "\n",
        "  def forward(self,X):\n",
        "\n",
        "    # The input features (covariates) are first mapped in a hidden representation space\n",
        "    # to measure the distance between Z0 and Z1\n",
        "\n",
        "    Phi = self.encoder(X)\n",
        "\n",
        "    # Pass the transformed features through potential outcomes predicting networks\n",
        "    Y0 = self.func0(Phi)\n",
        "    Y1 = self.func1(Phi)\n",
        "\n",
        "    return Phi, Y0, Y1"
      ],
      "metadata": {
        "id": "ZxtDSaIbP-fv"
      },
      "execution_count": null,
      "outputs": []
    },
    {
      "cell_type": "code",
      "source": [
        "!pip install geomloss"
      ],
      "metadata": {
        "colab": {
          "base_uri": "https://localhost:8080/"
        },
        "id": "uXiZ9vYbQCFg",
        "outputId": "630e04bf-267e-4ea4-dea4-5c40a55a3206"
      },
      "execution_count": null,
      "outputs": [
        {
          "output_type": "stream",
          "name": "stdout",
          "text": [
            "Requirement already satisfied: geomloss in /usr/local/lib/python3.10/dist-packages (0.2.6)\n",
            "Requirement already satisfied: numpy in /usr/local/lib/python3.10/dist-packages (from geomloss) (1.23.5)\n",
            "Requirement already satisfied: torch in /usr/local/lib/python3.10/dist-packages (from geomloss) (2.1.0+cu118)\n",
            "Requirement already satisfied: filelock in /usr/local/lib/python3.10/dist-packages (from torch->geomloss) (3.12.4)\n",
            "Requirement already satisfied: typing-extensions in /usr/local/lib/python3.10/dist-packages (from torch->geomloss) (4.5.0)\n",
            "Requirement already satisfied: sympy in /usr/local/lib/python3.10/dist-packages (from torch->geomloss) (1.12)\n",
            "Requirement already satisfied: networkx in /usr/local/lib/python3.10/dist-packages (from torch->geomloss) (3.2)\n",
            "Requirement already satisfied: jinja2 in /usr/local/lib/python3.10/dist-packages (from torch->geomloss) (3.1.2)\n",
            "Requirement already satisfied: fsspec in /usr/local/lib/python3.10/dist-packages (from torch->geomloss) (2023.6.0)\n",
            "Requirement already satisfied: triton==2.1.0 in /usr/local/lib/python3.10/dist-packages (from torch->geomloss) (2.1.0)\n",
            "Requirement already satisfied: MarkupSafe>=2.0 in /usr/local/lib/python3.10/dist-packages (from jinja2->torch->geomloss) (2.1.3)\n",
            "Requirement already satisfied: mpmath>=0.19 in /usr/local/lib/python3.10/dist-packages (from sympy->torch->geomloss) (1.3.0)\n"
          ]
        }
      ]
    },
    {
      "cell_type": "code",
      "source": [
        "from geomloss import SamplesLoss\n",
        "\n",
        "class Wassertein_Loss(nn.Module):\n",
        "  def __init__(self,p=1,blur=0.05):\n",
        "    super(Wassertein_Loss, self).__init__()\n",
        "    self.p = p\n",
        "    self.blur = blur\n",
        "  def forward(self,phi1,phi0):\n",
        "    samples_loss = SamplesLoss(loss=\"sinkhorn\", p=self.p, blur=self.blur, backend=\"tensorized\")\n",
        "    imbalance_loss = samples_loss(phi1, phi0)\n",
        "    return imbalance_loss\n",
        "wass = Wassertein_Loss()"
      ],
      "metadata": {
        "id": "8AJAKMPXQFzV"
      },
      "execution_count": null,
      "outputs": []
    },
    {
      "cell_type": "markdown",
      "source": [],
      "metadata": {
        "id": "bLNCE3QawKC0"
      }
    },
    {
      "cell_type": "code",
      "source": [
        "#@title Train the\n",
        "from sklearn.model_selection import train_test_split\n",
        "\n",
        "def train_cfr(net,epochs,data,ihdp_X,ihdp_mu0,ihdp_mu1,dim,batch,lr,decay):\n",
        "    # Prepare for training\n",
        "    tqdm_epoch = tqdm.trange(epochs)\n",
        "    optimizer = optim.AdamW(net.parameters(), lr=lr, weight_decay=decay)\n",
        "    mse = nn.MSELoss()\n",
        "\n",
        "    # Extract feature vector X, treatment indicator t, and outcome y from data\n",
        "    X = data[:,:dim]\n",
        "    t = data[:,dim]\n",
        "    y = data[:,dim+1:dim+2]\n",
        "    y0 = y[t==0]\n",
        "    y1 = y[t==1]\n",
        "\n",
        "    # Calculate weight coefficients for the loss function\n",
        "    u = torch.mean(t)\n",
        "    wt = 1/(2*u)\n",
        "    wc = 1/(2*(1-u))\n",
        "\n",
        "    # Split the data into training and testing datasets\n",
        "    train_data, test_data, train_mu0, test_mu0, train_mu1, test_mu1 = train_test_split(data, ihdp_mu0, ihdp_mu1, test_size=0.2)\n",
        "\n",
        "    # Create a DataLoader for the training set\n",
        "    loader = DataLoader(train_data, batch_size=batch, shuffle=True)\n",
        "\n",
        "    # Initialize list to store the performance metric\n",
        "    list_perf = []\n",
        "\n",
        "    # Hyperparameter for the loss function\n",
        "    alpha = 3\n",
        "\n",
        "    # Train for the specified number of epochs\n",
        "    for _ in tqdm_epoch:\n",
        "        # For each batch in the training data\n",
        "        for tr in loader:\n",
        "            # Extract treatment indicator, feature vector, and outcome from the current batch\n",
        "            train_t = tr[:,dim]\n",
        "            train_X = tr[:,0:dim]\n",
        "            train_y = tr[:,dim+1:dim+2]\n",
        "            train_Y0 = train_y[train_t==0]\n",
        "            train_Y1 = train_y[train_t==1]\n",
        "\n",
        "            # Forward pass through the network\n",
        "            phi, y0, y1 = net(train_X)\n",
        "\n",
        "            # Zero the gradients before the backward pass\n",
        "            optimizer.zero_grad()\n",
        "\n",
        "            # Calculate the loss and perform the backward pass\n",
        "            loss = wc * mse(y0[train_t==0],train_Y0) + wt * mse(y1[train_t==1],train_Y1) + alpha * wass(phi[train_t==0],phi[train_t==1])  #+ alpha * wass(train_X[train_t==1],phi[train_t==1])\n",
        "            loss.backward()\n",
        "\n",
        "            # Update the weights\n",
        "            optimizer.step()\n",
        "\n",
        "        # Display the current total loss and losses for each outcome\n",
        "        tqdm_epoch.set_description('Total Loss: {:3f} --- FL0 = {:3f}, FL1 = {:3f}'.format(loss.cpu().detach().numpy(),mse(y0[train_t==0],train_Y0).cpu().detach().numpy(),mse(y1[train_t==1],train_Y1).cpu().detach().numpy()))\n",
        "\n",
        "        # Evaluation on test data\n",
        "        test_X = test_data[:,0:dim]\n",
        "        _,y0_est,y1_est = net(test_X)\n",
        "\n",
        "        # Calculate the performance metric\n",
        "        e_pehe = torch.sqrt(torch.mean((y1_est-y0_est-test_mu1+test_mu0)**2))\n",
        "\n",
        "        # Append the performance metric to the list for tracking\n",
        "        list_perf.append(e_pehe.item())\n",
        "\n",
        "    return list_perf\n"
      ],
      "metadata": {
        "id": "YbdaYs4hQH2A"
      },
      "execution_count": null,
      "outputs": []
    },
    {
      "cell_type": "code",
      "source": [
        "net = CFR(25,1)\n",
        "lr =1e-3\n",
        "\n",
        "EPOCHS = 100\n",
        "batch = 100\n",
        "decay = 1e-5\n",
        "\n",
        "dim = 25\n",
        "#data = torch.concatenate((ihdp_X,ihdp_t.reshape(-1,1),ihdp_y.reshape(-1,1)),axis=1)\n",
        "data = torch.concatenate((ihdp_X,ihdp_t.reshape(-1,1),ihdp_y.reshape(-1,1)),axis=1)\n",
        "model = train_cfr(net,EPOCHS,data,ihdp_X,ihdp_mu0,ihdp_mu1,dim,batch,lr,decay)\n"
      ],
      "metadata": {
        "colab": {
          "base_uri": "https://localhost:8080/"
        },
        "id": "wYcFWrr4QRDW",
        "outputId": "e03ddc22-6be2-4a3c-fdff-74745328a072"
      },
      "execution_count": null,
      "outputs": [
        {
          "output_type": "stream",
          "name": "stderr",
          "text": [
            "Total Loss: 11.571728 --- FL0 = 2.458901, FL1 = 3.216336: 100%|██████████| 100/100 [00:10<00:00,  9.54it/s]\n"
          ]
        }
      ]
    },
    {
      "cell_type": "code",
      "source": [
        "plt.plot(model)\n",
        "plt.xlabel('Epochs')\n",
        "plt.ylabel('PEHE')\n",
        "plt.title('PEHE')\n",
        "plt.show()\n",
        "print(\"The minumu value is\",min(model))\n"
      ],
      "metadata": {
        "colab": {
          "base_uri": "https://localhost:8080/",
          "height": 490
        },
        "id": "ii1qEb_QQa0l",
        "outputId": "9572cca2-b1cd-4856-f00d-b3b94a253b97"
      },
      "execution_count": null,
      "outputs": [
        {
          "output_type": "display_data",
          "data": {
            "text/plain": [
              "<Figure size 640x480 with 1 Axes>"
            ],
            "image/png": "[encoded data removed]"
          },
          "metadata": {}
        },
        {
          "output_type": "stream",
          "name": "stdout",
          "text": [
            "The minumu value is 0.8872361779212952\n"
          ]
        }
      ]
    },
    {
      "cell_type": "markdown",
      "source": [
        "## Persistent Homology And Counterfactual Regression"
      ],
      "metadata": {
        "id": "wdOv95wPSnne"
      }
    },
    {
      "cell_type": "code",
      "source": [
        "!pip install gudhi"
      ],
      "metadata": {
        "colab": {
          "base_uri": "https://localhost:8080/"
        },
        "id": "0Yn0jqC8S1kK",
        "outputId": "48bc1046-684e-4644-e3d1-31d553385ef0"
      },
      "execution_count": null,
      "outputs": [
        {
          "output_type": "stream",
          "name": "stdout",
          "text": [
            "Requirement already satisfied: gudhi in /usr/local/lib/python3.10/dist-packages (3.8.0)\n",
            "Requirement already satisfied: numpy>=1.15.0 in /usr/local/lib/python3.10/dist-packages (from gudhi) (1.23.5)\n"
          ]
        }
      ]
    },
    {
      "cell_type": "code",
      "source": [
        "import gudhi as gd\n",
        "import numpy as np\n",
        "\n",
        "def compute_persistence_diagram(features):\n",
        "    # Construct a simplex tree from the feature set\n",
        "    rips_complex = gd.RipsComplex(points=features, max_edge_length=50)\n",
        "\n",
        "    # Construct a simplex tree from the Rips complex\n",
        "    simplex_tree = rips_complex.create_simplex_tree(max_dimension=2)\n",
        "\n",
        "    # Compute the persistent homology of the simplex tree\n",
        "    persistence = simplex_tree.persistence()\n",
        "    #print(persistence.shape)\n",
        "    # Convert the persistent homology to a format suitable for computing distances\n",
        "    persistence_diagram = np.array([x[1] for x in persistence if x[0] == 1])\n",
        "    #print(persistent_diagram.shape)\n",
        "    return persistence_diagram\n"
      ],
      "metadata": {
        "id": "kd1FSZStSymG"
      },
      "execution_count": null,
      "outputs": []
    },
    {
      "cell_type": "code",
      "source": [
        "#define a distance between the persistent homologies\n",
        "from geomloss import SamplesLoss\n",
        "import torch.nn.functional as F\n",
        "\n",
        "class SlicedWassersteinDistance(nn.Module):\n",
        "    def __init__(self, p=1, blur=.05):\n",
        "        super().__init__()\n",
        "        self.p = p\n",
        "        self.blur = blur\n",
        "        self.loss_fn = SamplesLoss(\"sinkhorn\", p=self.p, blur=self.blur)\n",
        "\n",
        "    def forward(self, phi1, phi0):\n",
        "        # Convert the features into persistence diagrams\n",
        "        # This step requires a library that supports differentiable computation of persistent homology\n",
        "        pd1 = compute_persistence_diagram(phi1)\n",
        "        pd0 = compute_persistence_diagram(phi0)\n",
        "\n",
        "        # Check if pd1 or pd0 is empty\n",
        "        if pd1.size == 0:\n",
        "            pd1 = np.array([[0, 0]])  # dummy point\n",
        "        if pd0.size == 0:\n",
        "            pd0 = np.array([[0, 0]])  # dummy point\n",
        "\n",
        "        # Convert the numpy arrays to torch tensors\n",
        "        pd1 = torch.tensor(pd1, device=phi1.device)\n",
        "        pd0 = torch.tensor(pd0, device=phi0.device)\n",
        "\n",
        "        # print the persistent homolgies data shapes\n",
        "        print()\n",
        "\n",
        "        pd1 = pd1.float()\n",
        "        pd0 = pd0.float()\n",
        "\n",
        "        # Compute the sliced wasserstein distance between the persistence diagrams\n",
        "        swd = self.loss_fn(pd1, pd0)\n",
        "        return swd\n"
      ],
      "metadata": {
        "id": "GyVKIwaTRqro"
      },
      "execution_count": null,
      "outputs": []
    },
    {
      "cell_type": "code",
      "source": [
        "topo_loss = SlicedWassersteinDistance()"
      ],
      "metadata": {
        "id": "n4EfdfPGS6L0"
      },
      "execution_count": null,
      "outputs": []
    },
    {
      "cell_type": "code",
      "source": [
        "from sklearn.model_selection import train_test_split\n",
        "\n",
        "def train_homology_cfr(net,epochs,data,ihdp_X,ihdp_mu0,ihdp_mu1,dim,batch,lr,decay):\n",
        "    tqdm_epoch = tqdm.trange(epochs)\n",
        "    optimizer = optim.Adam(net.parameters(), lr=lr,weight_decay=decay)\n",
        "    mse = nn.MSELoss()\n",
        "\n",
        "    # Extract feature vector X, treatment indicator t and outcome y from data\n",
        "    X = data[:,:dim]\n",
        "    t = data[:,dim]\n",
        "    y = data[:,dim+1:dim+2]\n",
        "    y0 = y[t==0]\n",
        "    y1 = y[t==1]\n",
        "\n",
        "    # Calculate weight coefficients for the loss function\n",
        "    u = torch.mean(t)\n",
        "    wt = 1/(2*u)\n",
        "    wc = 1/(2*(1-u))\n",
        "\n",
        "    # Split the data into training and testing datasets\n",
        "    train_data, test_data, train_mu0, test_mu0, train_mu1, test_mu1 = train_test_split(data, ihdp_mu0, ihdp_mu1, test_size=0.2)\n",
        "\n",
        "    # Initialize data loader for the training set\n",
        "    loader = DataLoader(train_data, batch_size=batch, shuffle=True)\n",
        "\n",
        "    list_perf = []\n",
        "    alpha = 3\n",
        "    for _ in tqdm_epoch:\n",
        "        # For each batch in training data\n",
        "        for tr in loader:\n",
        "            # Extract treatment indicator, feature vector and outcome from current batch\n",
        "            train_t = tr[:,dim]\n",
        "            train_X = tr[:,0:dim]\n",
        "            train_y = tr[:,dim+1:dim+2]\n",
        "            train_Y0 = train_y[train_t==0]\n",
        "            train_Y1 = train_y[train_t==1]\n",
        "\n",
        "            # Forward pass through the network\n",
        "            phi, y0, y1 = net(train_X)\n",
        "\n",
        "            # Zero the gradients before backward pass\n",
        "            optimizer.zero_grad()\n",
        "\n",
        "            # Calculate the loss and perform backward pass\n",
        "            loss = wc * mse(y0[train_t==0],train_Y0) + wt * mse(y1[train_t==1],train_Y1) + alpha * topo_loss(phi[train_t==0],phi[train_t==1]) + alpha * wass(phi[train_t==0],phi[train_t==1]) #+ + alpha * topo_loss(train_X[train_t==1],phi[train_t==1])\n",
        "            loss.backward()\n",
        "\n",
        "            # Update the weights\n",
        "            optimizer.step()\n",
        "\n",
        "        tqdm_epoch.set_description('Total Loss: {:3f} --- FL0 = {:3f}, FL1 = {:3f}'.format(loss.cpu().detach().numpy(),mse(y0[train_t==0],train_Y0).cpu().detach().numpy(),mse(y1[train_t==1],train_Y1).cpu().detach().numpy()))\n",
        "\n",
        "        # Evaluation on test data\n",
        "        test_X = test_data[:,0:dim]\n",
        "        _,y0_est,y1_est = net(test_X)\n",
        "\n",
        "        # Calculate the performance metric\n",
        "        e_pehe = torch.sqrt(torch.mean((y1_est-y0_est-test_mu1+test_mu0)**2))\n",
        "\n",
        "        # Append the performance metric to the list for tracking\n",
        "        list_perf.append(e_pehe.item())\n",
        "\n",
        "    return list_perf\n"
      ],
      "metadata": {
        "id": "pQuwOo0cTFd3"
      },
      "execution_count": null,
      "outputs": []
    },
    {
      "cell_type": "code",
      "source": [
        "net2 = CFR(25,1)\n",
        "lr =1e-3\n",
        "\n",
        "EPOCHS = 100\n",
        "batch = 100\n",
        "decay = 1e-5\n",
        "\n",
        "dim = 25\n",
        "#data = torch.concatenate((ihdp_X,ihdp_t.reshape(-1,1),ihdp_y.reshape(-1,1)),axis=1)\n",
        "data = torch.concatenate((ihdp_X,ihdp_t.reshape(-1,1),ihdp_y.reshape(-1,1)),axis=1)\n",
        "results_homology = train_cfr(net2,EPOCHS,data,ihdp_X,ihdp_mu0,ihdp_mu1,dim,batch,lr,decay)"
      ],
      "metadata": {
        "colab": {
          "base_uri": "https://localhost:8080/"
        },
        "id": "NLdn5cBtTPrx",
        "outputId": "30a84965-4405-4606-8cd8-501f671a3299"
      },
      "execution_count": null,
      "outputs": [
        {
          "output_type": "stream",
          "name": "stderr",
          "text": [
            "Total Loss: 7.370038 --- FL0 = 2.479624, FL1 = 2.021045: 100%|██████████| 100/100 [00:11<00:00,  8.92it/s]\n"
          ]
        }
      ]
    },
    {
      "cell_type": "code",
      "source": [
        "plt.plot(model)\n",
        "plt.plot(results_homology)\n",
        "plt.legend(['Original','Homology'])\n",
        "plt.xlabel('Epoch')\n",
        "plt.ylabel('PEHE')\n",
        "plt.title('Homology')\n",
        "plt.show()\n",
        "\n",
        "print(\"The minumum value is\",min(model))\n",
        "print(\"The minumum value (Peristent Homology) is\",min(results_homology))\n"
      ],
      "metadata": {
        "colab": {
          "base_uri": "https://localhost:8080/",
          "height": 508
        },
        "id": "PnF-vnENTZ4N",
        "outputId": "00e6dc9c-b347-4ead-ac0d-4a5ae3f1cd51"
      },
      "execution_count": null,
      "outputs": [
        {
          "output_type": "display_data",
          "data": {
            "text/plain": [
              "<Figure size 640x480 with 1 Axes>"
            ],
            "image/png": "[encoded data removed]"
          },
          "metadata": {}
        },
        {
          "output_type": "stream",
          "name": "stdout",
          "text": [
            "The minumum value is 0.8872361779212952\n",
            "The minumum value (Peristent Homology) is 0.7677367925643921\n"
          ]
        }
      ]
    },
    {
      "cell_type": "markdown",
      "source": [
        "### Adding noise to the data experiment"
      ],
      "metadata": {
        "id": "Q86JO2K_cDKX"
      }
    },
    {
      "cell_type": "code",
      "source": [
        "ihdp_X_ = ihdp_X + torch.randn(ihdp_X.shape)\n",
        "ihdp_t = ihdp_t #no noise for treatment :)\n",
        "ihdp_y = ihdp_y #+ torch.randn(ihdp_y.shape)"
      ],
      "metadata": {
        "id": "Zn2c65njb7tC"
      },
      "execution_count": null,
      "outputs": []
    },
    {
      "cell_type": "code",
      "source": [
        "#train with no persistent homology\n",
        "net_noisy = CFR(25,1,64)\n",
        "net_homology_noisy = CFR(25,1,64)\n",
        "\n",
        "\n",
        "lr =1e-2\n",
        "\n",
        "EPOCHS = 100\n",
        "batch = 200\n",
        "decay = 1e-5\n",
        "\n",
        "dim = 25\n",
        "\n",
        "\n",
        "\n",
        "#data = torch.concatenate((ihdp_X,ihdp_t.reshape(-1,1),ihdp_y.reshape(-1,1)),axis=1)\n",
        "data = torch.concatenate((ihdp_X_,ihdp_t.reshape(-1,1),ihdp_y.reshape(-1,1)),axis=1)\n",
        "data = data.float()\n",
        "ihdp_X_ = ihdp_X_.float()\n",
        "ihdp_t = ihdp_t.float()\n",
        "ihdp_y = ihdp_y.float()\n",
        "\n",
        "results_original_noisy = train_cfr(net_noisy,EPOCHS,data,ihdp_X,ihdp_mu0,ihdp_mu1,dim,batch,lr,decay)\n",
        "#data = torch.tensor(data)\n",
        "results_homology_noisy = train_homology_cfr(net_homology_noisy,EPOCHS,data,ihdp_X,ihdp_mu0,ihdp_mu1,dim,batch,lr,decay)"
      ],
      "metadata": {
        "colab": {
          "base_uri": "https://localhost:8080/",
          "height": 1000
        },
        "id": "fBlgCNeTbJ7k",
        "outputId": "35026c4e-724c-457c-8f0a-62f2a4d4ec8b"
      },
      "execution_count": null,
      "outputs": [
        {
          "output_type": "stream",
          "name": "stderr",
          "text": [
            "Total Loss: 2.679522 --- FL0 = 3.506844, FL1 = 0.069272: 100%|██████████| 100/100 [00:07<00:00, 12.63it/s]\n",
            "  0%|          | 0/100 [00:00<?, ?it/s]"
          ]
        },
        {
          "output_type": "stream",
          "name": "stdout",
          "text": [
            "\n",
            "\n"
          ]
        },
        {
          "output_type": "stream",
          "name": "stderr",
          "text": [
            "Total Loss: 122.212341 --- FL0 = 8.017954, FL1 = 42.616241:   1%|          | 1/100 [00:02<04:06,  2.49s/it]"
          ]
        },
        {
          "output_type": "stream",
          "name": "stdout",
          "text": [
            "\n",
            "\n",
            "\n"
          ]
        },
        {
          "output_type": "stream",
          "name": "stderr",
          "text": [
            "Total Loss: 51.916252 --- FL0 = 3.725485, FL1 = 17.009808:   2%|▏         | 2/100 [00:04<03:21,  2.06s/it]"
          ]
        },
        {
          "output_type": "stream",
          "name": "stdout",
          "text": [
            "\n",
            "\n",
            "\n"
          ]
        },
        {
          "output_type": "stream",
          "name": "stderr",
          "text": [
            "Total Loss: 33.305035 --- FL0 = 5.741786, FL1 = 9.241343:   3%|▎         | 3/100 [00:05<03:05,  1.91s/it]"
          ]
        },
        {
          "output_type": "stream",
          "name": "stdout",
          "text": [
            "\n",
            "\n",
            "\n"
          ]
        },
        {
          "output_type": "stream",
          "name": "stderr",
          "text": [
            "Total Loss: 13.585103 --- FL0 = 3.566662, FL1 = 2.951984:   4%|▍         | 4/100 [00:07<02:56,  1.84s/it]"
          ]
        },
        {
          "output_type": "stream",
          "name": "stdout",
          "text": [
            "\n",
            "\n",
            "\n"
          ]
        },
        {
          "output_type": "stream",
          "name": "stderr",
          "text": [
            "Total Loss: 24.405802 --- FL0 = 4.455036, FL1 = 7.062498:   5%|▌         | 5/100 [00:09<02:45,  1.74s/it]"
          ]
        },
        {
          "output_type": "stream",
          "name": "stdout",
          "text": [
            "\n",
            "\n",
            "\n"
          ]
        },
        {
          "output_type": "stream",
          "name": "stderr",
          "text": [
            "Total Loss: 13.926773 --- FL0 = 3.020854, FL1 = 3.234263:   6%|▌         | 6/100 [00:11<02:50,  1.81s/it]"
          ]
        },
        {
          "output_type": "stream",
          "name": "stdout",
          "text": [
            "\n",
            "\n",
            "\n"
          ]
        },
        {
          "output_type": "stream",
          "name": "stderr",
          "text": [
            "Total Loss: 14.847641 --- FL0 = 3.760802, FL1 = 3.484534:   7%|▋         | 7/100 [00:14<03:18,  2.13s/it]"
          ]
        },
        {
          "output_type": "stream",
          "name": "stdout",
          "text": [
            "\n",
            "\n",
            "\n"
          ]
        },
        {
          "output_type": "stream",
          "name": "stderr",
          "text": [
            "Total Loss: 10.812622 --- FL0 = 3.218497, FL1 = 2.321892:   8%|▊         | 8/100 [00:16<03:23,  2.22s/it]"
          ]
        },
        {
          "output_type": "stream",
          "name": "stdout",
          "text": [
            "\n",
            "\n",
            "\n"
          ]
        },
        {
          "output_type": "stream",
          "name": "stderr",
          "text": [
            "Total Loss: 9.390488 --- FL0 = 4.393421, FL1 = 1.634337:   9%|▉         | 9/100 [00:18<03:06,  2.05s/it]"
          ]
        },
        {
          "output_type": "stream",
          "name": "stdout",
          "text": [
            "\n",
            "\n",
            "\n"
          ]
        },
        {
          "output_type": "stream",
          "name": "stderr",
          "text": [
            "Total Loss: 11.270809 --- FL0 = 3.299242, FL1 = 2.608958:  10%|█         | 10/100 [00:19<02:58,  1.98s/it]"
          ]
        },
        {
          "output_type": "stream",
          "name": "stdout",
          "text": [
            "\n",
            "\n",
            "\n"
          ]
        },
        {
          "output_type": "stream",
          "name": "stderr",
          "text": [
            "Total Loss: 8.012202 --- FL0 = 3.947896, FL1 = 1.468545:  11%|█         | 11/100 [00:21<02:49,  1.91s/it]"
          ]
        },
        {
          "output_type": "stream",
          "name": "stdout",
          "text": [
            "\n",
            "\n",
            "\n"
          ]
        },
        {
          "output_type": "stream",
          "name": "stderr",
          "text": [
            "Total Loss: 11.321827 --- FL0 = 3.945351, FL1 = 2.534499:  12%|█▏        | 12/100 [00:23<02:39,  1.82s/it]"
          ]
        },
        {
          "output_type": "stream",
          "name": "stdout",
          "text": [
            "\n",
            "\n",
            "\n"
          ]
        },
        {
          "output_type": "stream",
          "name": "stderr",
          "text": [
            "Total Loss: 8.705635 --- FL0 = 2.870665, FL1 = 2.153651:  13%|█▎        | 13/100 [00:24<02:31,  1.74s/it]"
          ]
        },
        {
          "output_type": "stream",
          "name": "stdout",
          "text": [
            "\n",
            "\n",
            "\n"
          ]
        },
        {
          "output_type": "stream",
          "name": "stderr",
          "text": [
            "Total Loss: 10.671522 --- FL0 = 2.947492, FL1 = 2.805515:  14%|█▍        | 14/100 [00:27<02:50,  1.98s/it]"
          ]
        },
        {
          "output_type": "stream",
          "name": "stdout",
          "text": [
            "\n",
            "\n",
            "\n"
          ]
        },
        {
          "output_type": "stream",
          "name": "stderr",
          "text": [
            "Total Loss: 10.103182 --- FL0 = 3.826071, FL1 = 2.490098:  15%|█▌        | 15/100 [00:29<03:02,  2.15s/it]"
          ]
        },
        {
          "output_type": "stream",
          "name": "stdout",
          "text": [
            "\n",
            "\n",
            "\n"
          ]
        },
        {
          "output_type": "stream",
          "name": "stderr",
          "text": [
            "Total Loss: 10.078377 --- FL0 = 3.948760, FL1 = 2.534524:  16%|█▌        | 16/100 [00:31<02:50,  2.02s/it]"
          ]
        },
        {
          "output_type": "stream",
          "name": "stdout",
          "text": [
            "\n",
            "\n",
            "\n"
          ]
        },
        {
          "output_type": "stream",
          "name": "stderr",
          "text": [
            "Total Loss: 11.228498 --- FL0 = 4.121355, FL1 = 2.952643:  17%|█▋        | 17/100 [00:33<02:39,  1.92s/it]"
          ]
        },
        {
          "output_type": "stream",
          "name": "stdout",
          "text": [
            "\n",
            "\n",
            "\n"
          ]
        },
        {
          "output_type": "stream",
          "name": "stderr",
          "text": [
            "Total Loss: 9.638999 --- FL0 = 3.352781, FL1 = 2.415942:  18%|█▊        | 18/100 [00:35<02:32,  1.86s/it]"
          ]
        },
        {
          "output_type": "stream",
          "name": "stdout",
          "text": [
            "\n",
            "\n",
            "\n"
          ]
        },
        {
          "output_type": "stream",
          "name": "stderr",
          "text": [
            "Total Loss: 12.295996 --- FL0 = 3.207633, FL1 = 3.354146:  19%|█▉        | 19/100 [00:36<02:26,  1.81s/it]"
          ]
        },
        {
          "output_type": "stream",
          "name": "stdout",
          "text": [
            "\n",
            "\n",
            "\n"
          ]
        },
        {
          "output_type": "stream",
          "name": "stderr",
          "text": [
            "Total Loss: 9.998388 --- FL0 = 2.756454, FL1 = 2.678095:  20%|██        | 20/100 [00:38<02:21,  1.77s/it]"
          ]
        },
        {
          "output_type": "stream",
          "name": "stdout",
          "text": [
            "\n",
            "\n",
            "\n"
          ]
        },
        {
          "output_type": "stream",
          "name": "stderr",
          "text": [
            "Total Loss: 9.816175 --- FL0 = 4.604921, FL1 = 2.035614:  21%|██        | 21/100 [00:41<02:39,  2.02s/it]"
          ]
        },
        {
          "output_type": "stream",
          "name": "stdout",
          "text": [
            "\n",
            "\n",
            "\n"
          ]
        },
        {
          "output_type": "stream",
          "name": "stderr",
          "text": [
            "Total Loss: 9.285748 --- FL0 = 3.437876, FL1 = 2.332114:  22%|██▏       | 22/100 [00:43<02:50,  2.18s/it]"
          ]
        },
        {
          "output_type": "stream",
          "name": "stdout",
          "text": [
            "\n",
            "\n",
            "\n"
          ]
        },
        {
          "output_type": "stream",
          "name": "stderr",
          "text": [
            "Total Loss: 8.631116 --- FL0 = 3.445666, FL1 = 1.955413:  23%|██▎       | 23/100 [00:45<02:37,  2.04s/it]"
          ]
        },
        {
          "output_type": "stream",
          "name": "stdout",
          "text": [
            "\n",
            "\n",
            "\n"
          ]
        },
        {
          "output_type": "stream",
          "name": "stderr",
          "text": [
            "Total Loss: 7.401380 --- FL0 = 2.840468, FL1 = 1.914864:  24%|██▍       | 24/100 [00:47<02:29,  1.97s/it]"
          ]
        },
        {
          "output_type": "stream",
          "name": "stdout",
          "text": [
            "\n",
            "\n",
            "\n"
          ]
        },
        {
          "output_type": "stream",
          "name": "stderr",
          "text": [
            "Total Loss: 7.923033 --- FL0 = 2.845787, FL1 = 2.135108:  25%|██▌       | 25/100 [00:48<02:25,  1.94s/it]"
          ]
        },
        {
          "output_type": "stream",
          "name": "stdout",
          "text": [
            "\n",
            "\n",
            "\n"
          ]
        },
        {
          "output_type": "stream",
          "name": "stderr",
          "text": [
            "Total Loss: 12.577482 --- FL0 = 4.139189, FL1 = 3.261920:  26%|██▌       | 26/100 [00:50<02:19,  1.89s/it]"
          ]
        },
        {
          "output_type": "stream",
          "name": "stdout",
          "text": [
            "\n",
            "\n",
            "\n"
          ]
        },
        {
          "output_type": "stream",
          "name": "stderr",
          "text": [
            "Total Loss: 9.924225 --- FL0 = 3.085718, FL1 = 2.627712:  27%|██▋       | 27/100 [00:52<02:15,  1.86s/it]"
          ]
        },
        {
          "output_type": "stream",
          "name": "stdout",
          "text": [
            "\n",
            "\n",
            "\n"
          ]
        },
        {
          "output_type": "stream",
          "name": "stderr",
          "text": [
            "Total Loss: 9.343117 --- FL0 = 3.821948, FL1 = 2.056749:  28%|██▊       | 28/100 [00:54<02:20,  1.95s/it]"
          ]
        },
        {
          "output_type": "stream",
          "name": "stdout",
          "text": [
            "\n",
            "\n",
            "\n"
          ]
        },
        {
          "output_type": "stream",
          "name": "stderr",
          "text": [
            "Total Loss: 8.582191 --- FL0 = 3.351205, FL1 = 2.070693:  29%|██▉       | 29/100 [00:57<02:27,  2.07s/it]"
          ]
        },
        {
          "output_type": "stream",
          "name": "stdout",
          "text": [
            "\n",
            "\n",
            "\n"
          ]
        },
        {
          "output_type": "stream",
          "name": "stderr",
          "text": [
            "Total Loss: 8.823084 --- FL0 = 3.531163, FL1 = 1.868960:  30%|███       | 30/100 [00:58<02:13,  1.91s/it]"
          ]
        },
        {
          "output_type": "stream",
          "name": "stdout",
          "text": [
            "\n",
            "\n",
            "\n"
          ]
        },
        {
          "output_type": "stream",
          "name": "stderr",
          "text": [
            "Total Loss: 8.501854 --- FL0 = 3.409345, FL1 = 1.809944:  31%|███       | 31/100 [01:00<02:10,  1.89s/it]"
          ]
        },
        {
          "output_type": "stream",
          "name": "stdout",
          "text": [
            "\n",
            "\n"
          ]
        },
        {
          "output_type": "stream",
          "name": "stderr",
          "text": [
            "/usr/local/lib/python3.10/dist-packages/geomloss/sinkhorn_divergence.py:147: RuntimeWarning: divide by zero encountered in log\n",
            "  p * np.log(diameter), p * np.log(blur), p * np.log(scaling)\n",
            "\rTotal Loss: 8.501854 --- FL0 = 3.409345, FL1 = 1.809944:  31%|███       | 31/100 [01:01<02:16,  1.98s/it]"
          ]
        },
        {
          "output_type": "stream",
          "name": "stdout",
          "text": [
            "\n"
          ]
        },
        {
          "output_type": "stream",
          "name": "stderr",
          "text": [
            "\n"
          ]
        },
        {
          "output_type": "error",
          "ename": "ValueError",
          "evalue": "ignored",
          "traceback": [
            "\u001b[0;31m---------------------------------------------------------------------------\u001b[0m",
            "\u001b[0;31mValueError\u001b[0m                                Traceback (most recent call last)",
            "\u001b[0;32m<ipython-input-91-0e4c43dc7512>\u001b[0m in \u001b[0;36m<cell line: 25>\u001b[0;34m()\u001b[0m\n\u001b[1;32m     23\u001b[0m \u001b[0mresults_original_noisy\u001b[0m \u001b[0;34m=\u001b[0m \u001b[0mtrain_cfr\u001b[0m\u001b[0;34m(\u001b[0m\u001b[0mnet_noisy\u001b[0m\u001b[0;34m,\u001b[0m\u001b[0mEPOCHS\u001b[0m\u001b[0;34m,\u001b[0m\u001b[0mdata\u001b[0m\u001b[0;34m,\u001b[0m\u001b[0mihdp_X\u001b[0m\u001b[0;34m,\u001b[0m\u001b[0mihdp_mu0\u001b[0m\u001b[0;34m,\u001b[0m\u001b[0mihdp_mu1\u001b[0m\u001b[0;34m,\u001b[0m\u001b[0mdim\u001b[0m\u001b[0;34m,\u001b[0m\u001b[0mbatch\u001b[0m\u001b[0;34m,\u001b[0m\u001b[0mlr\u001b[0m\u001b[0;34m,\u001b[0m\u001b[0mdecay\u001b[0m\u001b[0;34m)\u001b[0m\u001b[0;34m\u001b[0m\u001b[0;34m\u001b[0m\u001b[0m\n\u001b[1;32m     24\u001b[0m \u001b[0;31m#data = torch.tensor(data)\u001b[0m\u001b[0;34m\u001b[0m\u001b[0;34m\u001b[0m\u001b[0m\n\u001b[0;32m---> 25\u001b[0;31m \u001b[0mresults_homology_noisy\u001b[0m \u001b[0;34m=\u001b[0m \u001b[0mtrain_homology_cfr\u001b[0m\u001b[0;34m(\u001b[0m\u001b[0mnet_homology_noisy\u001b[0m\u001b[0;34m,\u001b[0m\u001b[0mEPOCHS\u001b[0m\u001b[0;34m,\u001b[0m\u001b[0mdata\u001b[0m\u001b[0;34m,\u001b[0m\u001b[0mihdp_X\u001b[0m\u001b[0;34m,\u001b[0m\u001b[0mihdp_mu0\u001b[0m\u001b[0;34m,\u001b[0m\u001b[0mihdp_mu1\u001b[0m\u001b[0;34m,\u001b[0m\u001b[0mdim\u001b[0m\u001b[0;34m,\u001b[0m\u001b[0mbatch\u001b[0m\u001b[0;34m,\u001b[0m\u001b[0mlr\u001b[0m\u001b[0;34m,\u001b[0m\u001b[0mdecay\u001b[0m\u001b[0;34m)\u001b[0m\u001b[0;34m\u001b[0m\u001b[0;34m\u001b[0m\u001b[0m\n\u001b[0m",
            "\u001b[0;32m<ipython-input-87-57764cd076e5>\u001b[0m in \u001b[0;36mtrain_homology_cfr\u001b[0;34m(net, epochs, data, ihdp_X, ihdp_mu0, ihdp_mu1, dim, batch, lr, decay)\u001b[0m\n\u001b[1;32m     43\u001b[0m \u001b[0;34m\u001b[0m\u001b[0m\n\u001b[1;32m     44\u001b[0m             \u001b[0;31m# Calculate the loss and perform backward pass\u001b[0m\u001b[0;34m\u001b[0m\u001b[0;34m\u001b[0m\u001b[0m\n\u001b[0;32m---> 45\u001b[0;31m             \u001b[0mloss\u001b[0m \u001b[0;34m=\u001b[0m \u001b[0mwc\u001b[0m \u001b[0;34m*\u001b[0m \u001b[0mmse\u001b[0m\u001b[0;34m(\u001b[0m\u001b[0my0\u001b[0m\u001b[0;34m[\u001b[0m\u001b[0mtrain_t\u001b[0m\u001b[0;34m==\u001b[0m\u001b[0;36m0\u001b[0m\u001b[0;34m]\u001b[0m\u001b[0;34m,\u001b[0m\u001b[0mtrain_Y0\u001b[0m\u001b[0;34m)\u001b[0m \u001b[0;34m+\u001b[0m \u001b[0mwt\u001b[0m \u001b[0;34m*\u001b[0m \u001b[0mmse\u001b[0m\u001b[0;34m(\u001b[0m\u001b[0my1\u001b[0m\u001b[0;34m[\u001b[0m\u001b[0mtrain_t\u001b[0m\u001b[0;34m==\u001b[0m\u001b[0;36m1\u001b[0m\u001b[0;34m]\u001b[0m\u001b[0;34m,\u001b[0m\u001b[0mtrain_Y1\u001b[0m\u001b[0;34m)\u001b[0m \u001b[0;34m+\u001b[0m \u001b[0malpha\u001b[0m \u001b[0;34m*\u001b[0m \u001b[0mtopo_loss\u001b[0m\u001b[0;34m(\u001b[0m\u001b[0mphi\u001b[0m\u001b[0;34m[\u001b[0m\u001b[0mtrain_t\u001b[0m\u001b[0;34m==\u001b[0m\u001b[0;36m0\u001b[0m\u001b[0;34m]\u001b[0m\u001b[0;34m,\u001b[0m\u001b[0mphi\u001b[0m\u001b[0;34m[\u001b[0m\u001b[0mtrain_t\u001b[0m\u001b[0;34m==\u001b[0m\u001b[0;36m1\u001b[0m\u001b[0;34m]\u001b[0m\u001b[0;34m)\u001b[0m \u001b[0;34m+\u001b[0m \u001b[0malpha\u001b[0m \u001b[0;34m*\u001b[0m \u001b[0mwass\u001b[0m\u001b[0;34m(\u001b[0m\u001b[0mphi\u001b[0m\u001b[0;34m[\u001b[0m\u001b[0mtrain_t\u001b[0m\u001b[0;34m==\u001b[0m\u001b[0;36m0\u001b[0m\u001b[0;34m]\u001b[0m\u001b[0;34m,\u001b[0m\u001b[0mphi\u001b[0m\u001b[0;34m[\u001b[0m\u001b[0mtrain_t\u001b[0m\u001b[0;34m==\u001b[0m\u001b[0;36m1\u001b[0m\u001b[0;34m]\u001b[0m\u001b[0;34m)\u001b[0m \u001b[0;31m#+ + alpha * topo_loss(train_X[train_t==1],phi[train_t==1])\u001b[0m\u001b[0;34m\u001b[0m\u001b[0;34m\u001b[0m\u001b[0m\n\u001b[0m\u001b[1;32m     46\u001b[0m             \u001b[0mloss\u001b[0m\u001b[0;34m.\u001b[0m\u001b[0mbackward\u001b[0m\u001b[0;34m(\u001b[0m\u001b[0;34m)\u001b[0m\u001b[0;34m\u001b[0m\u001b[0;34m\u001b[0m\u001b[0m\n\u001b[1;32m     47\u001b[0m \u001b[0;34m\u001b[0m\u001b[0m\n",
            "\u001b[0;32m/usr/local/lib/python3.10/dist-packages/torch/nn/modules/module.py\u001b[0m in \u001b[0;36m_wrapped_call_impl\u001b[0;34m(self, *args, **kwargs)\u001b[0m\n\u001b[1;32m   1516\u001b[0m             \u001b[0;32mreturn\u001b[0m \u001b[0mself\u001b[0m\u001b[0;34m.\u001b[0m\u001b[0m_compiled_call_impl\u001b[0m\u001b[0;34m(\u001b[0m\u001b[0;34m*\u001b[0m\u001b[0margs\u001b[0m\u001b[0;34m,\u001b[0m \u001b[0;34m**\u001b[0m\u001b[0mkwargs\u001b[0m\u001b[0;34m)\u001b[0m  \u001b[0;31m# type: ignore[misc]\u001b[0m\u001b[0;34m\u001b[0m\u001b[0;34m\u001b[0m\u001b[0m\n\u001b[1;32m   1517\u001b[0m         \u001b[0;32melse\u001b[0m\u001b[0;34m:\u001b[0m\u001b[0;34m\u001b[0m\u001b[0;34m\u001b[0m\u001b[0m\n\u001b[0;32m-> 1518\u001b[0;31m             \u001b[0;32mreturn\u001b[0m \u001b[0mself\u001b[0m\u001b[0;34m.\u001b[0m\u001b[0m_call_impl\u001b[0m\u001b[0;34m(\u001b[0m\u001b[0;34m*\u001b[0m\u001b[0margs\u001b[0m\u001b[0;34m,\u001b[0m \u001b[0;34m**\u001b[0m\u001b[0mkwargs\u001b[0m\u001b[0;34m)\u001b[0m\u001b[0;34m\u001b[0m\u001b[0;34m\u001b[0m\u001b[0m\n\u001b[0m\u001b[1;32m   1519\u001b[0m \u001b[0;34m\u001b[0m\u001b[0m\n\u001b[1;32m   1520\u001b[0m     \u001b[0;32mdef\u001b[0m \u001b[0m_call_impl\u001b[0m\u001b[0;34m(\u001b[0m\u001b[0mself\u001b[0m\u001b[0;34m,\u001b[0m \u001b[0;34m*\u001b[0m\u001b[0margs\u001b[0m\u001b[0;34m,\u001b[0m \u001b[0;34m**\u001b[0m\u001b[0mkwargs\u001b[0m\u001b[0;34m)\u001b[0m\u001b[0;34m:\u001b[0m\u001b[0;34m\u001b[0m\u001b[0;34m\u001b[0m\u001b[0m\n",
            "\u001b[0;32m/usr/local/lib/python3.10/dist-packages/torch/nn/modules/module.py\u001b[0m in \u001b[0;36m_call_impl\u001b[0;34m(self, *args, **kwargs)\u001b[0m\n\u001b[1;32m   1525\u001b[0m                 \u001b[0;32mor\u001b[0m \u001b[0m_global_backward_pre_hooks\u001b[0m \u001b[0;32mor\u001b[0m \u001b[0m_global_backward_hooks\u001b[0m\u001b[0;34m\u001b[0m\u001b[0;34m\u001b[0m\u001b[0m\n\u001b[1;32m   1526\u001b[0m                 or _global_forward_hooks or _global_forward_pre_hooks):\n\u001b[0;32m-> 1527\u001b[0;31m             \u001b[0;32mreturn\u001b[0m \u001b[0mforward_call\u001b[0m\u001b[0;34m(\u001b[0m\u001b[0;34m*\u001b[0m\u001b[0margs\u001b[0m\u001b[0;34m,\u001b[0m \u001b[0;34m**\u001b[0m\u001b[0mkwargs\u001b[0m\u001b[0;34m)\u001b[0m\u001b[0;34m\u001b[0m\u001b[0;34m\u001b[0m\u001b[0m\n\u001b[0m\u001b[1;32m   1528\u001b[0m \u001b[0;34m\u001b[0m\u001b[0m\n\u001b[1;32m   1529\u001b[0m         \u001b[0;32mtry\u001b[0m\u001b[0;34m:\u001b[0m\u001b[0;34m\u001b[0m\u001b[0;34m\u001b[0m\u001b[0m\n",
            "\u001b[0;32m<ipython-input-85-50507f8fb032>\u001b[0m in \u001b[0;36mforward\u001b[0;34m(self, phi1, phi0)\u001b[0m\n\u001b[1;32m     33\u001b[0m \u001b[0;34m\u001b[0m\u001b[0m\n\u001b[1;32m     34\u001b[0m         \u001b[0;31m# Compute the sliced wasserstein distance between the persistence diagrams\u001b[0m\u001b[0;34m\u001b[0m\u001b[0;34m\u001b[0m\u001b[0m\n\u001b[0;32m---> 35\u001b[0;31m         \u001b[0mswd\u001b[0m \u001b[0;34m=\u001b[0m \u001b[0mself\u001b[0m\u001b[0;34m.\u001b[0m\u001b[0mloss_fn\u001b[0m\u001b[0;34m(\u001b[0m\u001b[0mpd1\u001b[0m\u001b[0;34m,\u001b[0m \u001b[0mpd0\u001b[0m\u001b[0;34m)\u001b[0m\u001b[0;34m\u001b[0m\u001b[0;34m\u001b[0m\u001b[0m\n\u001b[0m\u001b[1;32m     36\u001b[0m         \u001b[0;32mreturn\u001b[0m \u001b[0mswd\u001b[0m\u001b[0;34m\u001b[0m\u001b[0;34m\u001b[0m\u001b[0m\n",
            "\u001b[0;32m/usr/local/lib/python3.10/dist-packages/torch/nn/modules/module.py\u001b[0m in \u001b[0;36m_wrapped_call_impl\u001b[0;34m(self, *args, **kwargs)\u001b[0m\n\u001b[1;32m   1516\u001b[0m             \u001b[0;32mreturn\u001b[0m \u001b[0mself\u001b[0m\u001b[0;34m.\u001b[0m\u001b[0m_compiled_call_impl\u001b[0m\u001b[0;34m(\u001b[0m\u001b[0;34m*\u001b[0m\u001b[0margs\u001b[0m\u001b[0;34m,\u001b[0m \u001b[0;34m**\u001b[0m\u001b[0mkwargs\u001b[0m\u001b[0;34m)\u001b[0m  \u001b[0;31m# type: ignore[misc]\u001b[0m\u001b[0;34m\u001b[0m\u001b[0;34m\u001b[0m\u001b[0m\n\u001b[1;32m   1517\u001b[0m         \u001b[0;32melse\u001b[0m\u001b[0;34m:\u001b[0m\u001b[0;34m\u001b[0m\u001b[0;34m\u001b[0m\u001b[0m\n\u001b[0;32m-> 1518\u001b[0;31m             \u001b[0;32mreturn\u001b[0m \u001b[0mself\u001b[0m\u001b[0;34m.\u001b[0m\u001b[0m_call_impl\u001b[0m\u001b[0;34m(\u001b[0m\u001b[0;34m*\u001b[0m\u001b[0margs\u001b[0m\u001b[0;34m,\u001b[0m \u001b[0;34m**\u001b[0m\u001b[0mkwargs\u001b[0m\u001b[0;34m)\u001b[0m\u001b[0;34m\u001b[0m\u001b[0;34m\u001b[0m\u001b[0m\n\u001b[0m\u001b[1;32m   1519\u001b[0m \u001b[0;34m\u001b[0m\u001b[0m\n\u001b[1;32m   1520\u001b[0m     \u001b[0;32mdef\u001b[0m \u001b[0m_call_impl\u001b[0m\u001b[0;34m(\u001b[0m\u001b[0mself\u001b[0m\u001b[0;34m,\u001b[0m \u001b[0;34m*\u001b[0m\u001b[0margs\u001b[0m\u001b[0;34m,\u001b[0m \u001b[0;34m**\u001b[0m\u001b[0mkwargs\u001b[0m\u001b[0;34m)\u001b[0m\u001b[0;34m:\u001b[0m\u001b[0;34m\u001b[0m\u001b[0;34m\u001b[0m\u001b[0m\n",
            "\u001b[0;32m/usr/local/lib/python3.10/dist-packages/torch/nn/modules/module.py\u001b[0m in \u001b[0;36m_call_impl\u001b[0;34m(self, *args, **kwargs)\u001b[0m\n\u001b[1;32m   1525\u001b[0m                 \u001b[0;32mor\u001b[0m \u001b[0m_global_backward_pre_hooks\u001b[0m \u001b[0;32mor\u001b[0m \u001b[0m_global_backward_hooks\u001b[0m\u001b[0;34m\u001b[0m\u001b[0;34m\u001b[0m\u001b[0m\n\u001b[1;32m   1526\u001b[0m                 or _global_forward_hooks or _global_forward_pre_hooks):\n\u001b[0;32m-> 1527\u001b[0;31m             \u001b[0;32mreturn\u001b[0m \u001b[0mforward_call\u001b[0m\u001b[0;34m(\u001b[0m\u001b[0;34m*\u001b[0m\u001b[0margs\u001b[0m\u001b[0;34m,\u001b[0m \u001b[0;34m**\u001b[0m\u001b[0mkwargs\u001b[0m\u001b[0;34m)\u001b[0m\u001b[0;34m\u001b[0m\u001b[0;34m\u001b[0m\u001b[0m\n\u001b[0m\u001b[1;32m   1528\u001b[0m \u001b[0;34m\u001b[0m\u001b[0m\n\u001b[1;32m   1529\u001b[0m         \u001b[0;32mtry\u001b[0m\u001b[0;34m:\u001b[0m\u001b[0;34m\u001b[0m\u001b[0;34m\u001b[0m\u001b[0m\n",
            "\u001b[0;32m/usr/local/lib/python3.10/dist-packages/geomloss/samples_loss.py\u001b[0m in \u001b[0;36mforward\u001b[0;34m(self, *args)\u001b[0m\n\u001b[1;32m    263\u001b[0m \u001b[0;34m\u001b[0m\u001b[0m\n\u001b[1;32m    264\u001b[0m         \u001b[0;31m# Run --------------------------------------------------------------------------------\u001b[0m\u001b[0;34m\u001b[0m\u001b[0;34m\u001b[0m\u001b[0m\n\u001b[0;32m--> 265\u001b[0;31m         values = routines[self.loss][backend](\n\u001b[0m\u001b[1;32m    266\u001b[0m             \u001b[0mα\u001b[0m\u001b[0;34m,\u001b[0m\u001b[0;34m\u001b[0m\u001b[0;34m\u001b[0m\u001b[0m\n\u001b[1;32m    267\u001b[0m             \u001b[0mx\u001b[0m\u001b[0;34m,\u001b[0m\u001b[0;34m\u001b[0m\u001b[0;34m\u001b[0m\u001b[0m\n",
            "\u001b[0;32m/usr/local/lib/python3.10/dist-packages/geomloss/sinkhorn_samples.py\u001b[0m in \u001b[0;36msinkhorn_tensorized\u001b[0;34m(a, x, b, y, p, blur, reach, diameter, scaling, cost, debias, potentials, **kwargs)\u001b[0m\n\u001b[1;32m    189\u001b[0m     \u001b[0;31m# target temperature epsilon, temperature schedule across itereations\u001b[0m\u001b[0;34m\u001b[0m\u001b[0;34m\u001b[0m\u001b[0m\n\u001b[1;32m    190\u001b[0m     \u001b[0;31m# and strength of the marginal constraints:\u001b[0m\u001b[0;34m\u001b[0m\u001b[0;34m\u001b[0m\u001b[0m\n\u001b[0;32m--> 191\u001b[0;31m     diameter, eps, eps_list, rho = scaling_parameters(\n\u001b[0m\u001b[1;32m    192\u001b[0m         \u001b[0mx\u001b[0m\u001b[0;34m,\u001b[0m \u001b[0my\u001b[0m\u001b[0;34m,\u001b[0m \u001b[0mp\u001b[0m\u001b[0;34m,\u001b[0m \u001b[0mblur\u001b[0m\u001b[0;34m,\u001b[0m \u001b[0mreach\u001b[0m\u001b[0;34m,\u001b[0m \u001b[0mdiameter\u001b[0m\u001b[0;34m,\u001b[0m \u001b[0mscaling\u001b[0m\u001b[0;34m\u001b[0m\u001b[0;34m\u001b[0m\u001b[0m\n\u001b[1;32m    193\u001b[0m     )\n",
            "\u001b[0;32m/usr/local/lib/python3.10/dist-packages/geomloss/sinkhorn_divergence.py\u001b[0m in \u001b[0;36mscaling_parameters\u001b[0;34m(x, y, p, blur, reach, diameter, scaling)\u001b[0m\n\u001b[1;32m    161\u001b[0m     \u001b[0meps\u001b[0m \u001b[0;34m=\u001b[0m \u001b[0mblur\u001b[0m \u001b[0;34m**\u001b[0m \u001b[0mp\u001b[0m\u001b[0;34m\u001b[0m\u001b[0;34m\u001b[0m\u001b[0m\n\u001b[1;32m    162\u001b[0m     \u001b[0mrho\u001b[0m \u001b[0;34m=\u001b[0m \u001b[0;32mNone\u001b[0m \u001b[0;32mif\u001b[0m \u001b[0mreach\u001b[0m \u001b[0;32mis\u001b[0m \u001b[0;32mNone\u001b[0m \u001b[0;32melse\u001b[0m \u001b[0mreach\u001b[0m \u001b[0;34m**\u001b[0m \u001b[0mp\u001b[0m\u001b[0;34m\u001b[0m\u001b[0;34m\u001b[0m\u001b[0m\n\u001b[0;32m--> 163\u001b[0;31m     \u001b[0meps_list\u001b[0m \u001b[0;34m=\u001b[0m \u001b[0mepsilon_schedule\u001b[0m\u001b[0;34m(\u001b[0m\u001b[0mp\u001b[0m\u001b[0;34m,\u001b[0m \u001b[0mdiameter\u001b[0m\u001b[0;34m,\u001b[0m \u001b[0mblur\u001b[0m\u001b[0;34m,\u001b[0m \u001b[0mscaling\u001b[0m\u001b[0;34m)\u001b[0m\u001b[0;34m\u001b[0m\u001b[0;34m\u001b[0m\u001b[0m\n\u001b[0m\u001b[1;32m    164\u001b[0m     \u001b[0;32mreturn\u001b[0m \u001b[0mdiameter\u001b[0m\u001b[0;34m,\u001b[0m \u001b[0meps\u001b[0m\u001b[0;34m,\u001b[0m \u001b[0meps_list\u001b[0m\u001b[0;34m,\u001b[0m \u001b[0mrho\u001b[0m\u001b[0;34m\u001b[0m\u001b[0;34m\u001b[0m\u001b[0m\n\u001b[1;32m    165\u001b[0m \u001b[0;34m\u001b[0m\u001b[0m\n",
            "\u001b[0;32m/usr/local/lib/python3.10/dist-packages/geomloss/sinkhorn_divergence.py\u001b[0m in \u001b[0;36mepsilon_schedule\u001b[0;34m(p, diameter, blur, scaling)\u001b[0m\n\u001b[1;32m    144\u001b[0m         + [\n\u001b[1;32m    145\u001b[0m             \u001b[0mnp\u001b[0m\u001b[0;34m.\u001b[0m\u001b[0mexp\u001b[0m\u001b[0;34m(\u001b[0m\u001b[0me\u001b[0m\u001b[0;34m)\u001b[0m\u001b[0;34m\u001b[0m\u001b[0;34m\u001b[0m\u001b[0m\n\u001b[0;32m--> 146\u001b[0;31m             for e in np.arange(\n\u001b[0m\u001b[1;32m    147\u001b[0m                 \u001b[0mp\u001b[0m \u001b[0;34m*\u001b[0m \u001b[0mnp\u001b[0m\u001b[0;34m.\u001b[0m\u001b[0mlog\u001b[0m\u001b[0;34m(\u001b[0m\u001b[0mdiameter\u001b[0m\u001b[0;34m)\u001b[0m\u001b[0;34m,\u001b[0m \u001b[0mp\u001b[0m \u001b[0;34m*\u001b[0m \u001b[0mnp\u001b[0m\u001b[0;34m.\u001b[0m\u001b[0mlog\u001b[0m\u001b[0;34m(\u001b[0m\u001b[0mblur\u001b[0m\u001b[0;34m)\u001b[0m\u001b[0;34m,\u001b[0m \u001b[0mp\u001b[0m \u001b[0;34m*\u001b[0m \u001b[0mnp\u001b[0m\u001b[0;34m.\u001b[0m\u001b[0mlog\u001b[0m\u001b[0;34m(\u001b[0m\u001b[0mscaling\u001b[0m\u001b[0;34m)\u001b[0m\u001b[0;34m\u001b[0m\u001b[0;34m\u001b[0m\u001b[0m\n\u001b[1;32m    148\u001b[0m             )\n",
            "\u001b[0;31mValueError\u001b[0m: Maximum allowed size exceeded"
          ]
        }
      ]
    },
    {
      "cell_type": "code",
      "source": [
        "plt.plot(results_original_noisy)\n",
        "plt.plot(results_homology_noisy)\n",
        "plt.legend(['Original','Homology'])\n",
        "plt.xlabel('Epoch')\n",
        "plt.ylabel('PEHE')\n",
        "plt.title('Noisy')\n",
        "plt.show()\n",
        "\n",
        "print(\"The minumum value is\",min(results_original_noisy))\n",
        "print(\"The minumum value (Peristent Homology) is\",min(results_homology_noisy))\n",
        "\n"
      ],
      "metadata": {
        "colab": {
          "base_uri": "https://localhost:8080/",
          "height": 508
        },
        "id": "p1QjfjfzdwL3",
        "outputId": "2f724415-6f28-4735-ea81-d32cf37ea6e3"
      },
      "execution_count": null,
      "outputs": [
        {
          "output_type": "display_data",
          "data": {
            "text/plain": [
              "<Figure size 640x480 with 1 Axes>"
            ],
            "image/png": "[encoded data removed]"
          },
          "metadata": {}
        },
        {
          "output_type": "stream",
          "name": "stdout",
          "text": [
            "The minumum value is 0.9390599727630615\n",
            "The minumum value (Peristent Homology) is 0.978537917137146\n"
          ]
        }
      ]
    },
    {
      "cell_type": "code",
      "source": [],
      "metadata": {
        "id": "zcb4Xinocnfn"
      },
      "execution_count": null,
      "outputs": []
    }
  ]
}